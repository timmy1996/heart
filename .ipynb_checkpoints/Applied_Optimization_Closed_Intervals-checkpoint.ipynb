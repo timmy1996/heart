{
 "cells": [
  {
   "cell_type": "markdown",
   "id": "3a91377b",
   "metadata": {},
   "source": [
    "\n",
    "# Cross‑Disciplinary Optimization on Closed Intervals\n",
    "This notebook contains five short, applied examples—each designed for the **Closed Interval Method** workflow:\n",
    "1. Biology (logistic growth with harvesting) — **minimization**\n",
    "2. Chemistry (Michaelis–Menten with competitive inhibition) — **maximization**\n",
    "3. Physics (optics: intensity vs. distance) — **maximization**\n",
    "4. Statistics (MLE for Binomial) — **maximization**\n",
    "5. Economics (profit from demand & cost) — **maximization**\n",
    "\n",
    "For each: define the model, plot on its closed interval, do a quick analytic sketch, and compare with a numerical optimizer (`scipy.optimize.minimize_scalar`).\n"
   ]
  },
  {
   "cell_type": "markdown",
   "id": "27b806a3",
   "metadata": {},
   "source": [
    "\n",
    "## Closed Interval Method (recap)\n",
    "Given a continuous function \\(f\\) on \\([a,b]\\):\n",
    "1. Find interior **critical points** where \\(f'(x)=0\\) or undefined.\n",
    "2. Evaluate \\(f\\) at all **candidates**: \\(a\\), \\(b\\), and interior critical points.\n",
    "3. The largest value is the absolute maximum; the smallest is the absolute minimum.\n"
   ]
  },
  {
   "cell_type": "code",
   "execution_count": null,
   "id": "0a0c4112",
   "metadata": {},
   "outputs": [],
   "source": [
    "\n",
    "import numpy as np\n",
    "import matplotlib.pyplot as plt\n",
    "from scipy.optimize import minimize_scalar\n",
    "\n",
    "def report_max(f, a, b, name=\"f\"):\n",
    "    res = minimize_scalar(lambda x: -f(x), bounds=(a,b), method=\"bounded\")\n",
    "    x_star = float(res.x)\n",
    "    f_star = float(f(x_star))\n",
    "    print(f\"[Maximize] {name}: x* ≈ {x_star:.6f}, {name}(x*) ≈ {f_star:.6f}  | success={res.success}, evals={res.nfev}\")\n",
    "    return x_star, f_star, res\n",
    "\n",
    "def report_min(f, a, b, name=\"f\"):\n",
    "    res = minimize_scalar(lambda x: f(x), bounds=(a,b), method=\"bounded\")\n",
    "    x_star = float(res.x)\n",
    "    f_star = float(f(x_star))\n",
    "    print(f\"[Minimize] {name}: x* ≈ {x_star:.6f}, {name}(x*) ≈ {f_star:.6f}  | success={res.success}, evals={res.nfev}\")\n",
    "    return x_star, f_star, res\n",
    "\n",
    "def plot_on_interval(f, a, b, label, x_star=None, y_star=None, title=\"\"):\n",
    "    X = np.linspace(a, b, 100_001)\n",
    "    Y = f(X)\n",
    "    plt.figure()\n",
    "    plt.plot(X, Y, label=label)\n",
    "    if x_star is not None and y_star is not None:\n",
    "        plt.scatter([x_star], [y_star], zorder=3, label=\"Optimizer result\")\n",
    "        plt.axvline(x_star, linestyle=\"--\")\n",
    "    plt.xlim(a, b)\n",
    "    plt.xlabel(\"x\")\n",
    "    plt.ylabel(label)\n",
    "    plt.title(title if title else label)\n",
    "    plt.grid(True, alpha=0.3)\n",
    "    plt.legend()\n",
    "    plt.tight_layout()\n",
    "    plt.show()\n"
   ]
  },
  {
   "cell_type": "markdown",
   "id": "e021bd3f",
   "metadata": {},
   "source": [
    "\n",
    "## 1) Biology — Logistic growth with harvesting (minimize population)\n",
    "Model:\n",
    "\\[\n",
    "P(t) = \\frac{1000}{(1+9e^{-0.5t})} - 20t, \\quad 0 \\le t \\le 20.\n",
    "\\]\n",
    "\n",
    "**Task.** Use the Closed Interval Method to determine when the population is minimized over \\([0,20]\\) and find the minimum population.\n",
    "\n",
    "**Analytic sketch.** \\(P\\) is continuous on \\([0,20]\\). The logistic term increases and the linear harvest \\(-20t\\) decreases in \\(t\\). The minimum will occur either at an interior critical point where \\(P'(t)=0\\) or at an endpoint \\(t=0\\) or \\(t=20\\).\n"
   ]
  },
  {
   "cell_type": "code",
   "execution_count": null,
   "id": "fd688b35",
   "metadata": {},
   "outputs": [],
   "source": [
    "\n",
    "def P_bio(t):\n",
    "    return 1000.0/(1.0 + 9.0*np.exp(-0.5*t)) - 20.0*t\n",
    "\n",
    "a, b = 0.0, 20.0\n",
    "t_star, P_min, res_bio = report_min(P_bio, a, b, name=\"P\")\n",
    "plot_on_interval(P_bio, a, b, label=\"P(t)\", x_star=t_star, y_star=P_min,\n",
    "                 title=\"Biology: Population vs time (minimize over [0,20])\")\n",
    "\n",
    "cands_t = np.array([a, t_star, b])\n",
    "cands_P = P_bio(cands_t)\n",
    "j = int(np.argmin(cands_P))\n",
    "print(f\"Candidates (t): {cands_t}, P(t): {cands_P}\")\n",
    "print(f\"Closed-interval minimum -> t = {cands_t[j]:.6f}, P = {cands_P[j]:.6f}\")\n"
   ]
  },
  {
   "cell_type": "markdown",
   "id": "d61f3169",
   "metadata": {},
   "source": [
    "\n",
    "## 2) Chemistry — Michaelis–Menten with competitive inhibition (maximize rate)\n",
    "Model:\n",
    "\\[\n",
    "v(S) = \\frac{100S}{(S+2)(1+S/20)}, \\quad 0 \\le S \\le 50.\n",
    "\\]\n",
    "\n",
    "**Task.** Use the Closed Interval Method to find the substrate concentration that maximizes \\(v\\) and the maximum rate.\n",
    "\n",
    "**Analytic sketch.** \\(v(S)\\) is continuous and smooth on \\([0,50]\\) (no zero in denominator). Max occurs at an interior critical point where \\(v'(S)=0\\) or at an endpoint.\n"
   ]
  },
  {
   "cell_type": "code",
   "execution_count": null,
   "id": "4660504f",
   "metadata": {},
   "outputs": [],
   "source": [
    "\n",
    "def v_chem(S):\n",
    "    return 100.0*S / ((S+2.0)*(1.0 + S/20.0))\n",
    "\n",
    "a, b = 0.0, 50.0\n",
    "S_star, v_max, res_chem = report_max(v_chem, a, b, name=\"v\")\n",
    "plot_on_interval(v_chem, a, b, label=\"v(S)\", x_star=S_star, y_star=v_max,\n",
    "                 title=\"Chemistry: Reaction velocity vs substrate (maximize over [0,50])\")\n",
    "\n",
    "cands_S = np.array([a, S_star, b])\n",
    "cands_v = v_chem(cands_S)\n",
    "j = int(np.argmax(cands_v))\n",
    "print(f\"Candidates (S): {cands_S}, v(S): {cands_v}\")\n",
    "print(f\"Closed-interval maximum -> S = {cands_S[j]:.6f}, v = {cands_v[j]:.6f}\")\n"
   ]
  },
  {
   "cell_type": "markdown",
   "id": "4c44bb90",
   "metadata": {},
   "source": [
    "\n",
    "## 3) Physics — Optics intensity vs distance (maximize intensity)\n",
    "Model:\n",
    "\\[\n",
    "I(d) = \\frac{500d}{(d+10)^2}, \\quad 0 \\le d \\le 100.\n",
    "\\]\n",
    "\n",
    "**Task.** Use the Closed Interval Method to find the distance \\(d\\) that maximizes the intensity and the maximum \\(I\\).\n",
    "\n",
    "**Analytic sketch.** \\(I(d)\\) is continuous for \\(d\\ge 0\\). As with similar load/power models, the competition between numerator and denominator produces an interior maximizer near \\(d=10\\). Verify via \\(I'(d)=0\\) and check endpoints \\(d=0,100\\).\n"
   ]
  },
  {
   "cell_type": "code",
   "execution_count": null,
   "id": "5014ffaa",
   "metadata": {},
   "outputs": [],
   "source": [
    "\n",
    "def I_phys(d):\n",
    "    return 500.0*d / (d + 10.0)**2\n",
    "\n",
    "a, b = 0.0, 100.0\n",
    "d_star, I_max, res_phys = report_max(I_phys, a, b, name=\"I\")\n",
    "plot_on_interval(I_phys, a, b, label=\"I(d)\", x_star=d_star, y_star=I_max,\n",
    "                 title=\"Physics: Intensity vs distance (maximize over [0,100])\")\n",
    "\n",
    "cands_d = np.array([a, d_star, b])\n",
    "cands_I = I_phys(cands_d)\n",
    "j = int(np.argmax(cands_I))\n",
    "print(f\"Candidates (d): {cands_d}, I(d): {cands_I}\")\n",
    "print(f\"Closed-interval maximum -> d = {cands_d[j]:.6f}, I = {cands_I[j]:.6f}\")\n"
   ]
  },
  {
   "cell_type": "markdown",
   "id": "d6858bd3",
   "metadata": {},
   "source": [
    "\n",
    "## 4) Statistics — Binomial likelihood (maximize likelihood)\n",
    "Model (with \\(n=10\\) trials, \\(k=7\\) successes):\n",
    "\\[\n",
    "L(p) = \\binom{10}{7} p^7 (1-p)^3, \\quad 0 \\le p \\le 1.\n",
    "\\]\n",
    "\n",
    "**Task.** Use the Closed Interval Method to find \\(p\\) maximizing \\(L(p)\\). Compare with the intuitive estimator \\(p = k/n = 0.7\\).\n",
    "\n",
    "**Analytic sketch.** On \\([0,1]\\), \\(L(p)\\) is continuous and differentiable inside. Maximizer is interior where \\(L'(p)=0\\), which yields \\(p=\\tfrac{k}{n}=0.7\\). Check endpoints \\(p=0,1\\) as well.\n"
   ]
  },
  {
   "cell_type": "code",
   "execution_count": null,
   "id": "0779395d",
   "metadata": {},
   "outputs": [],
   "source": [
    "\n",
    "from math import comb\n",
    "\n",
    "n, k = 10, 7\n",
    "const = float(comb(n, k))\n",
    "\n",
    "def L_stat(p):\n",
    "    return const * (p**k) * ((1.0 - p)**(n - k))\n",
    "\n",
    "a, b = 0.0, 1.0\n",
    "p_star, L_max, res_stat = report_max(L_stat, a, b, name=\"L\")\n",
    "plot_on_interval(L_stat, a, b, label=\"L(p)\", x_star=p_star, y_star=L_max,\n",
    "                 title=\"Statistics: Binomial likelihood (maximize over [0,1])\")\n",
    "\n",
    "print(f\"Analytic MLE p_hat = k/n = {k/n:.6f}\")\n",
    "cands_p = np.array([a, p_star, b])\n",
    "cands_L = L_stat(cands_p)\n",
    "j = int(np.argmax(cands_L))\n",
    "print(f\"Candidates (p): {cands_p}, L(p): {cands_L}\")\n",
    "print(f\"Closed-interval maximum -> p = {cands_p[j]:.6f}, L = {cands_L[j]:.6f}\")\n"
   ]
  },
  {
   "cell_type": "markdown",
   "id": "358351db",
   "metadata": {},
   "source": [
    "\n",
    "## 5) Economics — Profit from demand and cost (maximize profit)\n",
    "Demand \\(p(x)=100-2x\\) on \\(0\\le x\\le 40\\). Revenue \\(R(x)=100x-2x^2\\). \n",
    "Cost \\(C(x)=20x+50\\). Profit:\n",
    "\\[\n",
    "\\pi(x) = 80x - 2x^2 - 50, \\quad 0 \\le x \\le 40.\n",
    "\\]\n",
    "\n",
    "**Task.** Use the Closed Interval Method to find the quantity \\(x\\) that maximizes profit and the maximum profit.\n",
    "\n",
    "**Analytic sketch.** \\(\\pi\\) is a concave quadratic; the interior critical point (if within \\([0,40]\\)) is the maximizer. Also check endpoints \\(x=0,40\\).\n"
   ]
  },
  {
   "cell_type": "code",
   "execution_count": null,
   "id": "0532fd35",
   "metadata": {},
   "outputs": [],
   "source": [
    "\n",
    "def pi_econ(x):\n",
    "    return 80.0*x - 2.0*x**2 - 50.0\n",
    "\n",
    "a, b = 0.0, 40.0\n",
    "x_star, pi_max, res_econ = report_max(pi_econ, a, b, name=\"pi\")\n",
    "plot_on_interval(pi_econ, a, b, label=\"pi(x)\", x_star=x_star, y_star=pi_max,\n",
    "                 title=\"Economics: Profit vs quantity (maximize over [0,40])\")\n",
    "\n",
    "cands_x = np.array([a, x_star, b])\n",
    "cands_pi = pi_econ(cands_x)\n",
    "j = int(np.argmax(cands_pi))\n",
    "print(f\"Candidates (x): {cands_x}, pi(x): {cands_pi}\")\n",
    "print(f\"Closed-interval maximum -> x = {cands_x[j]:.6f}, pi = {cands_pi[j]:.6f}\")\n"
   ]
  }
 ],
 "metadata": {},
 "nbformat": 4,
 "nbformat_minor": 5
}
