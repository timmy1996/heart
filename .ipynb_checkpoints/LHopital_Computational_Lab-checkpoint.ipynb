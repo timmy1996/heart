{
 "cells": [
  {
   "cell_type": "markdown",
   "id": "03253acf",
   "metadata": {},
   "source": [
    "\n",
    "# L'Hôpital's Rule — Computational Lab\n",
    "**Course:** Calculus for Engineers (MAT211/213)  \n",
    "**Date:** 2025-09-10\n",
    "\n",
    "This short lab helps you *see* L'Hôpital's Rule numerically and graphically, and compare it with Maclaurin/Taylor series.  \n",
    "Run each cell in order. Wherever you see **Try it**, modify inputs and re-run.\n",
    "\n",
    "**Learning goals**\n",
    "- Recognize when L'Hôpital applies and when it doesn't.\n",
    "- Compare L'Hôpital with series expansions and algebraic rewrites.\n",
    "- Visualize limits of ratios where both numerator and denominator vanish (or blow up).\n",
    "- Connect with small-signal/perturbation approximations used in engineering.\n"
   ]
  },
  {
   "cell_type": "code",
   "execution_count": null,
   "id": "34c02142",
   "metadata": {},
   "outputs": [],
   "source": [
    "\n",
    "# Imports\n",
    "import numpy as np\n",
    "import sympy as sp\n",
    "import matplotlib.pyplot as plt\n",
    "\n",
    "sp.init_printing()\n",
    "x = sp.symbols('x')\n"
   ]
  },
  {
   "cell_type": "markdown",
   "id": "0c52429f",
   "metadata": {},
   "source": [
    "\n",
    "## 1) Warm-up: When does L'Hôpital apply?\n",
    "Explain for each limit whether L'Hôpital's Rule applies (i.e., form is **0/0** or **∞/∞** and functions are differentiable near the point). Then evaluate with `sympy.limit`.\n",
    "\n",
    "**A.** \\(\\displaystyle \\lim_{x\\to 0}\\frac{\\sin x - x}{x^3}\\)\n",
    "\n",
    "**B.** \\(\\displaystyle \\lim_{x\\to 0}\\frac{1-\\cos x}{x^2}\\)\n",
    "\n",
    "**C.** \\(\\displaystyle \\lim_{x\\to 0}\\sin\\!\\big(\\tfrac{1}{x}\\big)\\)  (Does L'Hôpital apply? Why or why not?)\n"
   ]
  },
  {
   "cell_type": "code",
   "execution_count": null,
   "id": "b941f507",
   "metadata": {},
   "outputs": [],
   "source": [
    "\n",
    "A = (sp.sin(x) - x) / x**3\n",
    "B = (1 - sp.cos(x)) / x**2\n",
    "C = sp.sin(1/x)\n",
    "\n",
    "print(\"A:\", sp.limit(A, x, 0))\n",
    "print(\"B:\", sp.limit(B, x, 0))\n",
    "# The following limit does not exist; Sympy may throw or indicate nonexistence.\n",
    "try:\n",
    "    print(\"C:\", sp.limit(C, x, 0))\n",
    "except Exception as e:\n",
    "    print(\"C: limit does not exist (as expected) ->\", type(e).__name__, str(e)[:80], \"...\")\n"
   ]
  },
  {
   "cell_type": "markdown",
   "id": "6b3e1377",
   "metadata": {},
   "source": [
    "\n",
    "## 2) Numerical approach vs. exact limit\n",
    "We'll approximate the limit numerically and compare it with the exact value.\n",
    "\n",
    "Example: \\(\\displaystyle L=\\lim_{x\\to 0}\\frac{\\ln(1+x)-x}{x^2}\\).\n"
   ]
  },
  {
   "cell_type": "code",
   "execution_count": null,
   "id": "715a0be0",
   "metadata": {},
   "outputs": [],
   "source": [
    "\n",
    "expr = (sp.log(1+x) - x) / x**2\n",
    "L_exact = sp.limit(expr, x, 0)\n",
    "print(\"Exact limit:\", L_exact)\n",
    "\n",
    "# Numerical sampling approaching 0 from both sides\n",
    "xs = np.array([10.0**(-k) for k in range(1,8)], dtype=float)\n",
    "vals_right = [float(expr.subs(x, t)) for t in xs]\n",
    "vals_left  = [float(expr.subs(x, -t)) for t in xs]\n",
    "\n",
    "print(\"\\nApproach from the right:\")\n",
    "for t, v in zip(xs, vals_right):\n",
    "    print(f\"x={t: .1e} -> {v:.6f}\")\n",
    "\n",
    "print(\"\\nApproach from the left:\")\n",
    "for t, v in zip(xs, vals_left):\n",
    "    print(f\"x={-t: .1e} -> {v:.6f}\")\n"
   ]
  },
  {
   "cell_type": "markdown",
   "id": "3f7efabd",
   "metadata": {},
   "source": [
    "\n",
    "## 3) Plot behavior near the singular point\n",
    "For \\(\\displaystyle f(x)=\\frac{1-\\cos x}{x^2}\\), both numerator and denominator \\(\\to 0\\) as \\(x\\to 0\\).  \n",
    "Plot them on the same scale to see the behavior. Then plot \\(f(x)\\) itself.\n",
    "\n",
    "> **Tip:** Zooming in by reducing the interval shows how the ratio stabilizes.\n"
   ]
  },
  {
   "cell_type": "code",
   "execution_count": null,
   "id": "38af16ca",
   "metadata": {},
   "outputs": [],
   "source": [
    "\n",
    "# Plot numerator and denominator\n",
    "xs = np.linspace(-0.5, 0.5, 801)\n",
    "num = 1 - np.cos(xs)\n",
    "den = xs**2\n",
    "\n",
    "plt.figure(figsize=(6,4))\n",
    "plt.plot(xs, num, label=\"Numerator: 1 - cos(x)\")\n",
    "plt.plot(xs, den, label=\"Denominator: x^2\")\n",
    "plt.title(\"Both numerator and denominator -> 0 as x -> 0\")\n",
    "plt.xlabel(\"x\"); plt.ylabel(\"value\"); plt.legend(); plt.grid(True)\n",
    "plt.show()\n",
    "\n",
    "# Plot the ratio\n",
    "# Avoid division by zero\n",
    "mask = xs != 0\n",
    "f_vals = num[mask] / den[mask]\n",
    "\n",
    "plt.figure(figsize=(6,4))\n",
    "plt.plot(xs[mask], f_vals, label=\"(1 - cos x)/x^2\")\n",
    "plt.axhline(0.5, linestyle=\"--\", label=\"limit = 1/2\")\n",
    "plt.title(\"Ratio near x=0\")\n",
    "plt.xlabel(\"x\"); plt.ylabel(\"f(x)\"); plt.legend(); plt.grid(True)\n",
    "plt.show()\n"
   ]
  },
  {
   "cell_type": "markdown",
   "id": "383dca68",
   "metadata": {},
   "source": [
    "\n",
    "## 4) Series vs. L'Hôpital\n",
    "Sometimes a short series beats multiple L'Hôpital steps.\n",
    "\n",
    "Example: \\(\\displaystyle \\frac{\\ln(1+x)-x}{x^2}\\).\n"
   ]
  },
  {
   "cell_type": "code",
   "execution_count": null,
   "id": "86ff72be",
   "metadata": {},
   "outputs": [],
   "source": [
    "\n",
    "series = sp.series(sp.log(1+x) - x, x, 0, 4)  # up to x^3\n",
    "series\n"
   ]
  },
  {
   "cell_type": "markdown",
   "id": "16509847",
   "metadata": {},
   "source": [
    "\n",
    "## 5) Engineering mini-exercises (evaluate the limits)\n",
    "Use L'Hôpital (or an equivalent rewrite) where appropriate.\n",
    "\n",
    "1. **Low-SNR capacity slope**: \\(\\displaystyle \\lim_{s\\to 0}\\frac{\\log_{2}(1+s)}{s}\\).  \n",
    "2. **Small-signal diode conductance**: \\(\\displaystyle \\lim_{\\Delta V\\to 0}\\frac{e^{\\Delta V/V_T}-1}{\\Delta V}\\) (treat \\(V_T>0\\) as a positive constant).  \n",
    "3. **Small-angle energy term**: \\(\\displaystyle \\lim_{\\theta\\to 0}\\frac{1-\\cos\\theta}{\\theta^{2}}\\).\n"
   ]
  },
  {
   "cell_type": "code",
   "execution_count": null,
   "id": "8468a4f6",
   "metadata": {},
   "outputs": [],
   "source": [
    "\n",
    "# Symbolic solutions (check your work)\n",
    "s, dV, VT, th = sp.symbols('s dV VT th', positive=True)\n",
    "L1 = sp.limit(sp.log(1+s, 2)/s, s, 0)\n",
    "L2 = sp.limit((sp.exp(dV/VT)-1)/dV, dV, 0)\n",
    "L3 = sp.limit((1-sp.cos(th))/th**2, th, 0)\n",
    "\n",
    "print(\"1) Low-SNR capacity slope:\", L1, \" = 1/ln(2)\")\n",
    "print(\"2) Small-signal diode conductance:\", L2)\n",
    "print(\"3) Small-angle energy term:\", L3)\n"
   ]
  },
  {
   "cell_type": "markdown",
   "id": "313a5b57",
   "metadata": {},
   "source": [
    "\n",
    "## 6) Error-spotting (explain why L'Hôpital does **not** apply)\n",
    "A. \\(\\displaystyle \\lim_{x\\to0}\\sin\\!\\big(\\tfrac{1}{x}\\big)\\)  \n",
    "B. \\(\\displaystyle \\lim_{x\\to0^+} x\\ln x\\)  *(Hint: rewrite as a quotient first.)*\n",
    "\n",
    "Write a one-sentence justification for each.\n"
   ]
  },
  {
   "cell_type": "code",
   "execution_count": null,
   "id": "d52e57af",
   "metadata": {},
   "outputs": [],
   "source": [
    "\n",
    "# Check the actual limits symbolically/numerically\n",
    "exprB = x*sp.log(x)\n",
    "print(\"B exact limit:\", sp.limit(exprB, x, 0, dir='+'))\n",
    "# For A, sympy may not give a limit; it's known to not exist.\n",
    "try:\n",
    "    print(\"A exact limit:\", sp.limit(sp.sin(1/x), x, 0))\n",
    "except Exception as e:\n",
    "    print(\"A: limit does not exist (oscillation).\")\n"
   ]
  },
  {
   "cell_type": "markdown",
   "id": "0c6a8fe5",
   "metadata": {},
   "source": [
    "\n",
    "## 7) Monte Carlo approximation\n",
    "Randomly sample points near 0 to get a crude estimate of a limit.\n",
    "\n",
    "Example: \\(\\displaystyle \\lim_{x\\to0}\\frac{\\tan x - x}{x^3}\\).\n"
   ]
  },
  {
   "cell_type": "code",
   "execution_count": null,
   "id": "57727f16",
   "metadata": {},
   "outputs": [],
   "source": [
    "\n",
    "rng = np.random.default_rng(123)\n",
    "def approx_limit(f, n=20000, lo=-1e-3, hi=1e-3):\n",
    "    xs = rng.uniform(lo, hi, size=n)\n",
    "    xs = xs[np.abs(xs) > 1e-10]  # avoid exactly 0\n",
    "    vals = f(xs)\n",
    "    # Use median to reduce outlier influence\n",
    "    return np.median(vals), np.mean(vals)\n",
    "\n",
    "f = lambda arr: (np.tan(arr) - arr) / (arr**3)\n",
    "med, mean = approx_limit(f)\n",
    "print(\"Monte Carlo median ~\", med)\n",
    "print(\"Monte Carlo mean   ~\", mean)\n",
    "\n",
    "# Compare with exact limit via Sympy\n",
    "expr = (sp.tan(x) - x) / x**3\n",
    "print(\"Exact limit:\", sp.limit(expr, x, 0))\n"
   ]
  },
  {
   "cell_type": "markdown",
   "id": "7f05d009",
   "metadata": {},
   "source": [
    "\n",
    "## 8) Your turn — short investigations\n",
    "1. Replace \\((1-\\cos x)/x^2\\) by \\((\\sqrt{1+ax}-1)/x\\) for a constant \\(a\\). Plot the ratio and guess the limit. Verify symbolically.\n",
    "2. Build an example of type \\(1^{\\infty}\\) such as \\((1+ax)^{b/x}\\). Take logs to convert to a quotient, then evaluate the limit.\n",
    "3. Find a limit where **series** gives the answer more quickly than L'Hôpital (e.g., \\(\\arctan x - x\\) over \\(x^3\\)). Explain your choice.\n"
   ]
  }
 ],
 "metadata": {
  "kernelspec": {
   "display_name": "Python 3",
   "language": "python",
   "name": "python3"
  }
 },
 "nbformat": 4,
 "nbformat_minor": 5
}
